{
 "cells": [
  {
   "cell_type": "markdown",
   "metadata": {
    "colab_type": "text",
    "id": "h9464I-uxLiw"
   },
   "source": [
    "# Assignment"
   ]
  },
  {
   "cell_type": "markdown",
   "metadata": {
    "colab_type": "text",
    "id": "IvLvmewlxLix"
   },
   "source": [
    "<font face='georgia'>\n",
    "    \n",
    "   <h4><strong>What does tf-idf mean?</strong></h4>\n",
    "\n",
    "   <p>    \n",
    "Tf-idf stands for <em>term frequency-inverse document frequency</em>, and the tf-idf weight is a weight often used in information retrieval and text mining. This weight is a statistical measure used to evaluate how important a word is to a document in a collection or corpus. The importance increases proportionally to the number of times a word appears in the document but is offset by the frequency of the word in the corpus. Variations of the tf-idf weighting scheme are often used by search engines as a central tool in scoring and ranking a document's relevance given a user query.\n",
    "</p>\n",
    "    \n",
    "   <p>\n",
    "One of the simplest ranking functions is computed by summing the tf-idf for each query term; many more sophisticated ranking functions are variants of this simple model.\n",
    "</p>\n",
    "    \n",
    "   <p>\n",
    "Tf-idf can be successfully used for stop-words filtering in various subject fields including text summarization and classification.\n",
    "</p>\n",
    "    \n",
    "</font>"
   ]
  },
  {
   "cell_type": "markdown",
   "metadata": {
    "colab_type": "text",
    "id": "4XLaGFUMxLiy"
   },
   "source": [
    "<font face='georgia'>\n",
    "    <h4><strong>How to Compute:</strong></h4>\n",
    "\n",
    "Typically, the tf-idf weight is composed by two terms: the first computes the normalized Term Frequency (TF), aka. the number of times a word appears in a document, divided by the total number of words in that document; the second term is the Inverse Document Frequency (IDF), computed as the logarithm of the number of the documents in the corpus divided by the number of documents where the specific term appears.\n",
    "\n",
    " <ul>\n",
    "    <li>\n",
    "<strong>TF:</strong> Term Frequency, which measures how frequently a term occurs in a document. Since every document is different in length, it is possible that a term would appear much more times in long documents than shorter ones. Thus, the term frequency is often divided by the document length (aka. the total number of terms in the document) as a way of normalization: <br>\n",
    "\n",
    "$TF(t) = \\frac{\\text{Number of times term t appears in a document}}{\\text{Total number of terms in the document}}.$\n",
    "</li>\n",
    "<li>\n",
    "<strong>IDF:</strong> Inverse Document Frequency, which measures how important a term is. While computing TF, all terms are considered equally important. However it is known that certain terms, such as \"is\", \"of\", and \"that\", may appear a lot of times but have little importance. Thus we need to weigh down the frequent terms while scale up the rare ones, by computing the following: <br>\n",
    "\n",
    "$IDF(t) = \\log_{e}\\frac{\\text{Total  number of documents}} {\\text{Number of documents with term t in it}}.$\n",
    "for numerical stabiltiy we will be changing this formula little bit\n",
    "$IDF(t) = \\log_{e}\\frac{\\text{Total  number of documents}} {\\text{Number of documents with term t in it}+1}.$\n",
    "</li>\n",
    "</ul>\n",
    "\n",
    "<br>\n",
    "<h4><strong>Example</strong></h4>\n",
    "<p>\n",
    "\n",
    "Consider a document containing 100 words wherein the word cat appears 3 times. The term frequency (i.e., tf) for cat is then (3 / 100) = 0.03. Now, assume we have 10 million documents and the word cat appears in one thousand of these. Then, the inverse document frequency (i.e., idf) is calculated as log(10,000,000 / 1,000) = 4. Thus, the Tf-idf weight is the product of these quantities: 0.03 * 4 = 0.12.\n",
    "</p>\n",
    "</font>"
   ]
  },
  {
   "cell_type": "markdown",
   "metadata": {
    "colab_type": "text",
    "id": "dg2ooa4DxLiz"
   },
   "source": [
    "## Task-1"
   ]
  },
  {
   "cell_type": "markdown",
   "metadata": {
    "colab_type": "text",
    "id": "TAcTjhO8xLiz"
   },
   "source": [
    "<font face='georgia'>\n",
    "    <h4><strong>1. Build a TFIDF Vectorizer & compare its results with Sklearn:</strong></h4>\n",
    "\n",
    "<ul>\n",
    "    <li> As a part of this task you will be implementing TFIDF vectorizer on a collection of text documents.</li>\n",
    "    <br>\n",
    "    <li> You should compare the results of your own implementation of TFIDF vectorizer with that of sklearns implemenation TFIDF vectorizer.</li>\n",
    "    <br>\n",
    "    <li> Sklearn does few more tweaks in the implementation of its version of TFIDF vectorizer, so to replicate the exact results you would need to add following things to your custom implementation of tfidf vectorizer:\n",
    "       <ol>\n",
    "        <li> Sklearn has its vocabulary generated from idf sroted in alphabetical order</li>\n",
    "        <li> Sklearn formula of idf is different from the standard textbook formula. Here the constant <strong>\"1\"</strong> is added to the numerator and denominator of the idf as if an extra document was seen containing every term in the collection exactly once, which prevents zero divisions.\n",
    "            \n",
    " $IDF(t) = 1+\\log_{e}\\frac{1\\text{ }+\\text{ Total  number of documents in collection}} {1+\\text{Number of documents with term t in it}}.$\n",
    "        </li>\n",
    "        <li> Sklearn applies L2-normalization on its output matrix.</li>\n",
    "        <li> The final output of sklearn tfidf vectorizer is a sparse matrix.</li>\n",
    "    </ol>\n",
    "    <br>\n",
    "    <li>Steps to approach this task:\n",
    "    <ol>\n",
    "        <li> You would have to write both fit and transform methods for your custom implementation of tfidf vectorizer.</li>\n",
    "        <li> Print out the alphabetically sorted voacb after you fit your data and check if its the same as that of the feature names from sklearn tfidf vectorizer. </li>\n",
    "        <li> Print out the idf values from your implementation and check if its the same as that of sklearns tfidf vectorizer idf values. </li>\n",
    "        <li> Once you get your voacb and idf values to be same as that of sklearns implementation of tfidf vectorizer, proceed to the below steps. </li>\n",
    "        <li> Make sure the output of your implementation is a sparse matrix. Before generating the final output, you need to normalize your sparse matrix using L2 normalization. You can refer to this link https://scikit-learn.org/stable/modules/generated/sklearn.preprocessing.normalize.html </li>\n",
    "        <li> After completing the above steps, print the output of your custom implementation and compare it with sklearns implementation of tfidf vectorizer.</li>\n",
    "        <li> To check the output of a single document in your collection of documents,  you can convert the sparse matrix related only to that document into dense matrix and print it.</li>\n",
    "        </ol>\n",
    "    </li>\n",
    "    <br>\n",
    "   </ul>\n",
    "\n",
    "  <p> <font color=\"#e60000\"><strong>Note-1: </strong></font> All the necessary outputs of sklearns tfidf vectorizer have been provided as reference in this notebook, you can compare your outputs as mentioned in the above steps, with these outputs.<br>\n",
    "   <font color=\"#e60000\"><strong>Note-2: </strong></font> The output of your custom implementation and that of sklearns implementation would match only with the collection of document strings provided to you as reference in this notebook. It would not match for strings that contain capital letters or punctuations, etc, because sklearn version of tfidf vectorizer deals with such strings in a different way. To know further details about how sklearn tfidf vectorizer works with such string, you can always refer to its official documentation.<br>\n",
    "   <font color=\"#e60000\"><strong>Note-3: </strong></font> During this task, it would be helpful for you to debug the code you write with print statements wherever necessary. But when you are finally submitting the assignment, make sure your code is readable and try not to print things which are not part of this task.\n",
    "    </p>"
   ]
  },
  {
   "cell_type": "markdown",
   "metadata": {
    "colab_type": "text",
    "id": "OnV82tg1xLi0"
   },
   "source": [
    "### Corpus"
   ]
  },
  {
   "cell_type": "code",
   "execution_count": 1,
   "metadata": {
    "colab": {},
    "colab_type": "code",
    "id": "bUsYm9wjxLi1"
   },
   "outputs": [],
   "source": [
    "## SkLearn# Collection of string documents\n",
    "\n",
    "corpus = [\n",
    "     'this is the first document',\n",
    "     'this document is the second document',\n",
    "     'and this is the third one',\n",
    "     'is this the first document',\n",
    "]"
   ]
  },
  {
   "cell_type": "markdown",
   "metadata": {
    "colab_type": "text",
    "id": "eLwmFZfKxLi4"
   },
   "source": [
    "### SkLearn Implementation"
   ]
  },
  {
   "cell_type": "code",
   "execution_count": 14,
   "metadata": {
    "colab": {},
    "colab_type": "code",
    "id": "Np4dfQOkxLi4"
   },
   "outputs": [
    {
     "name": "stdout",
     "output_type": "stream",
     "text": [
      "TfidfVectorizer(analyzer='word', binary=False, decode_error='strict',\n",
      "        dtype=<class 'numpy.float64'>, encoding='utf-8', input='content',\n",
      "        lowercase=True, max_df=1.0, max_features=None, min_df=1,\n",
      "        ngram_range=(1, 1), norm='l2', preprocessor=None, smooth_idf=True,\n",
      "        stop_words=None, strip_accents=None, sublinear_tf=False,\n",
      "        token_pattern='(?u)\\\\b\\\\w\\\\w+\\\\b', tokenizer=None, use_idf=True,\n",
      "        vocabulary=None)\n",
      "  (0, 8)\t0.38408524091481483\n",
      "  (0, 6)\t0.38408524091481483\n",
      "  (0, 3)\t0.38408524091481483\n",
      "  (0, 2)\t0.5802858236844359\n",
      "  (0, 1)\t0.46979138557992045\n",
      "  (1, 8)\t0.281088674033753\n",
      "  (1, 6)\t0.281088674033753\n",
      "  (1, 5)\t0.5386476208856763\n",
      "  (1, 3)\t0.281088674033753\n",
      "  (1, 1)\t0.6876235979836938\n",
      "  (2, 8)\t0.267103787642168\n",
      "  (2, 7)\t0.511848512707169\n",
      "  (2, 6)\t0.267103787642168\n",
      "  (2, 4)\t0.511848512707169\n",
      "  (2, 3)\t0.267103787642168\n",
      "  (2, 0)\t0.511848512707169\n",
      "  (3, 8)\t0.38408524091481483\n",
      "  (3, 6)\t0.38408524091481483\n",
      "  (3, 3)\t0.38408524091481483\n",
      "  (3, 2)\t0.5802858236844359\n",
      "  (3, 1)\t0.46979138557992045\n"
     ]
    }
   ],
   "source": [
    "from sklearn.feature_extraction.text import TfidfVectorizer\n",
    "vectorizer = TfidfVectorizer()\n",
    "print(vectorizer.fit(corpus))\n",
    "\n",
    "skl_output = vectorizer.transform(corpus)\n",
    "print(skl_output)"
   ]
  },
  {
   "cell_type": "code",
   "execution_count": 5,
   "metadata": {
    "colab": {},
    "colab_type": "code",
    "id": "-7Om8YpYxLi6",
    "outputId": "0a3bd0f5-4424-4400-944f-4482a80bd799"
   },
   "outputs": [
    {
     "name": "stdout",
     "output_type": "stream",
     "text": [
      "['and', 'document', 'first', 'is', 'one', 'second', 'the', 'third', 'this']\n"
     ]
    }
   ],
   "source": [
    "# sklearn feature names, they are sorted in alphabetic order by default.\n",
    "\n",
    "print(vectorizer.get_feature_names())"
   ]
  },
  {
   "cell_type": "code",
   "execution_count": 13,
   "metadata": {
    "colab": {},
    "colab_type": "code",
    "id": "dTKplK96xLi-",
    "outputId": "53722fa2-6756-4aa0-f179-37b578bb6890"
   },
   "outputs": [
    {
     "name": "stdout",
     "output_type": "stream",
     "text": [
      "[1.91629073 1.22314355 1.51082562 1.         1.91629073 1.91629073\n",
      " 1.         1.91629073 1.        ]\n"
     ]
    }
   ],
   "source": [
    "# Here we will print the sklearn tfidf vectorizer idf values after applying the fit method\n",
    "# After using the fit function on the corpus the vocab has 9 words in it, and each has its idf value.\n",
    "print(vectorizer.idf_)"
   ]
  },
  {
   "cell_type": "code",
   "execution_count": 0,
   "metadata": {
    "colab": {},
    "colab_type": "code",
    "id": "-CTiWHygxLjA",
    "outputId": "8d5a9cde-2c29-4afe-f7b4-1547e88dba4f"
   },
   "outputs": [
    {
     "data": {
      "text/plain": [
       "(4, 9)"
      ]
     },
     "execution_count": 5,
     "metadata": {
      "tags": []
     },
     "output_type": "execute_result"
    }
   ],
   "source": [
    "# shape of sklearn tfidf vectorizer output after applying transform method.\n",
    "\n",
    "skl_output.shape"
   ]
  },
  {
   "cell_type": "code",
   "execution_count": 0,
   "metadata": {
    "colab": {},
    "colab_type": "code",
    "id": "bDKEpbA-xLjD",
    "outputId": "87dafd65-5313-443f-8c6e-1b05cc8c2543"
   },
   "outputs": [
    {
     "name": "stdout",
     "output_type": "stream",
     "text": [
      "  (0, 8)\t0.38408524091481483\n",
      "  (0, 6)\t0.38408524091481483\n",
      "  (0, 3)\t0.38408524091481483\n",
      "  (0, 2)\t0.5802858236844359\n",
      "  (0, 1)\t0.46979138557992045\n"
     ]
    }
   ],
   "source": [
    "# sklearn tfidf values for first line of the above corpus.\n",
    "# Here the output is a sparse matrix\n",
    "\n",
    "print(skl_output[0])"
   ]
  },
  {
   "cell_type": "code",
   "execution_count": 32,
   "metadata": {
    "colab": {},
    "colab_type": "code",
    "id": "3QWo34hexLjF",
    "outputId": "cdc04e08-989f-4bdc-dd7f-f1c82a9f90be"
   },
   "outputs": [
    {
     "name": "stdout",
     "output_type": "stream",
     "text": [
      "[[0.         0.46979139 0.58028582 0.38408524 0.         0.\n",
      "  0.38408524 0.         0.38408524]]\n"
     ]
    }
   ],
   "source": [
    "# sklearn tfidf values for first line of the above corpus.\n",
    "# To understand the output better, here we are converting the sparse output matrix to dense matrix and printing it.\n",
    "# Notice that this output is normalized using L2 normalization. sklearn does this by default.\n",
    "\n",
    "print(skl_output[3].toarray())"
   ]
  },
  {
   "cell_type": "markdown",
   "metadata": {
    "colab_type": "text",
    "id": "qfIwx5LzxLjI"
   },
   "source": [
    "### Your custom implementation"
   ]
  },
  {
   "cell_type": "code",
   "execution_count": 54,
   "metadata": {
    "colab": {},
    "colab_type": "code",
    "id": "HjuCcJwXxLjJ"
   },
   "outputs": [
    {
     "name": "stdout",
     "output_type": "stream",
     "text": [
      "Below are the Dimensional Features in sorted Order :\n",
      "['and', 'document', 'first', 'is', 'one', 'second', 'the', 'third', 'this']\n",
      "Below are the IDFScore Dimensional Features  :\n",
      "{'and': 1.916290731874155, 'document': 1.2231435513142097, 'first': 1.5108256237659907, 'is': 1.0, 'one': 1.916290731874155, 'second': 1.916290731874155, 'the': 1.0, 'third': 1.916290731874155, 'this': 1.0}\n"
     ]
    },
    {
     "name": "stderr",
     "output_type": "stream",
     "text": [
      "100%|██████████████████████████████████████████████████████████████████████████████████| 4/4 [00:00<00:00, 3986.03it/s]\n"
     ]
    },
    {
     "name": "stdout",
     "output_type": "stream",
     "text": [
      "Final output for Sparse Matrix after normalization\n",
      "  (0, 1)\t0.4697913855799205\n",
      "  (0, 2)\t0.580285823684436\n",
      "  (0, 3)\t0.3840852409148149\n",
      "  (0, 6)\t0.3840852409148149\n",
      "  (0, 8)\t0.3840852409148149\n",
      "  (1, 1)\t0.6876235979836937\n",
      "  (1, 3)\t0.2810886740337529\n",
      "  (1, 5)\t0.5386476208856762\n",
      "  (1, 6)\t0.2810886740337529\n",
      "  (1, 8)\t0.2810886740337529\n",
      "  (2, 0)\t0.511848512707169\n",
      "  (2, 3)\t0.267103787642168\n",
      "  (2, 4)\t0.511848512707169\n",
      "  (2, 6)\t0.267103787642168\n",
      "  (2, 7)\t0.511848512707169\n",
      "  (2, 8)\t0.267103787642168\n",
      "  (3, 1)\t0.4697913855799205\n",
      "  (3, 2)\t0.580285823684436\n",
      "  (3, 3)\t0.3840852409148149\n",
      "  (3, 6)\t0.3840852409148149\n",
      "  (3, 8)\t0.3840852409148149\n",
      "Shape of Matrix is (4, 9)\n",
      "Here the output is a sparse matrix of finaltransorm[0] :\n",
      "  (0, 1)\t0.4697913855799205\n",
      "  (0, 2)\t0.580285823684436\n",
      "  (0, 3)\t0.3840852409148149\n",
      "  (0, 6)\t0.3840852409148149\n",
      "  (0, 8)\t0.3840852409148149\n",
      "Here we are converting the sparse output matrix to dense matrix and printing it : \n",
      "[[0.         0.46979139 0.58028582 0.38408524 0.         0.\n",
      "  0.38408524 0.         0.38408524]]\n",
      "Dense Matrix of output\n",
      "[[0.         0.46979139 0.58028582 0.38408524 0.         0.\n",
      "  0.38408524 0.         0.38408524]\n",
      " [0.         0.6876236  0.         0.28108867 0.         0.53864762\n",
      "  0.28108867 0.         0.28108867]\n",
      " [0.51184851 0.         0.         0.26710379 0.51184851 0.\n",
      "  0.26710379 0.51184851 0.26710379]\n",
      " [0.         0.46979139 0.58028582 0.38408524 0.         0.\n",
      "  0.38408524 0.         0.38408524]]\n"
     ]
    }
   ],
   "source": [
    "# Write your code here.\n",
    "# Make sure its well documented and readble with appropriate comments.\n",
    "# Compare your results with the above sklearn tfidf vectorizer\n",
    "# You are not supposed to use any other library apart from the ones given below\n",
    "import warnings\n",
    "warnings.filterwarnings(\"ignore\")\n",
    "from collections import Counter\n",
    "from tqdm import tqdm\n",
    "from scipy.sparse import csr_matrix\n",
    "import math\n",
    "import operator\n",
    "from sklearn.preprocessing import normalize\n",
    "import numpy\n",
    "import os \n",
    "\n",
    "\n",
    "def wordscount(p):\n",
    "    \"\"\"\n",
    "    This function returns count of words \n",
    "    \"\"\"\n",
    "    count = 0 \n",
    "    words = p.split(\" \")  #Spliting the document into words \n",
    "    for ward in words:\n",
    "        count +=1            #Calculate the count of words  in each document \n",
    "    return count \n",
    "def get_countdoc(corpus):\n",
    "    \"\"\" \n",
    "    This function returns the no of words in each document\n",
    "    \"\"\"\n",
    "    doc_count = []                       #initialize list as empty \n",
    "    i =0\n",
    "    for p in corpus: \n",
    "        i +=1\n",
    "        count = wordscount(p)       #Calling Count function\n",
    "        temp = {'id_doc' : i, 'length_doc' : count}   #Stored as  dictionary for each document \n",
    "        doc_count.append(temp)           #Append each document dictionary to list \n",
    "    return doc_count\n",
    "\n",
    "def get_worddoc(corpus):\n",
    "    \"\"\"\n",
    "    This function returns each word count in each document\"\n",
    "    \"\"\"\n",
    "    i = 0 \n",
    "    freq = []            #Initialize list as empty\n",
    "    for ivr in corpus :  #Iterating each document in corpus \n",
    "        i += 1\n",
    "        dict_freq = {}\n",
    "        words = ivr.split(\" \")  #Spliting document into words\n",
    "        for wordi in words: \n",
    "            wordi = wordi.lower()  #Converting all words to lower case \n",
    "            if wordi in dict_freq:\n",
    "                dict_freq[wordi] +=1  #Calculating each word count in each document \n",
    "            else : \n",
    "                dict_freq[wordi] = 1  #First time adding that word into dictionary is set to  1 \n",
    "            \n",
    "            temp = {'id_doc' : i, 'freq_dit' : dict_freq}  #Adding each document with respective splited words count \n",
    "            \n",
    "        freq.append(temp)  #Appending dictinoary to final list \n",
    "    return freq\n",
    "\n",
    "def calculateTF(docin,fredict):\n",
    "    \"\"\"\n",
    "    This function returns TF Score for each word\n",
    "    \"\"\"\n",
    "    tf_value = []         #Initilaize list as empty\n",
    "    for values in fredict :   #Iterating every document in corpus\n",
    "        id = values['id_doc']    #Find the document id of that corpus \n",
    "        for k in values['freq_dit']: # Taking all words in each document \n",
    "            temp = {'id_doc' : id, 'tf_score' : values['freq_dit'][k]/docin[id-1]['length_doc'], 'key' : k }  #Calcualate TF Score of words in each document \n",
    "            tf_value.append(temp)  #Appending all documents TF Score to list \n",
    "    return tf_value\n",
    "\n",
    "def calculateidf(docin,fredict):\n",
    "        \"\"\"\n",
    "        This function returns IDF Score for each word \n",
    "        \"\"\"\n",
    "        idfscores = []\n",
    "        t1 = []\n",
    "        counter = 0\n",
    "        for dict in fredict :  #Iterating every document in corpus\n",
    "            counter +=1       \n",
    "            for k in dict['freq_dit'].keys():\n",
    "                count = sum([k in tempDict['freq_dit'] for tempDict in fredict])  #No of documents containing that word\n",
    "                temp = {'id_doc' : counter, 'IDFScore' :1.0 + (math.log((1+len(docin))/(1+count))), 'key': k} #Calulate the IDF Score of each word in document \n",
    "                idfscores.append(temp) #Append each document IDF Score\n",
    "        return idfscores\n",
    "\n",
    "def calculatetfidf(tfscore,idfscore):\n",
    "    \"\"\"\n",
    "    This function returns TF-IDF Score for each word \n",
    "    \"\"\"\n",
    "    tfidfscore = []\n",
    "    for j in idfscore:  #Iterating IDF Scores \n",
    "        for i in tfscore: #Iterating TF Scores \n",
    "            if j['key'] == i['key'] and j['id_doc'] == i['id_doc']:\n",
    "                temp = {'id_doc' : j['id_doc'], 'tfidfscore' : j['IDFScore']*i['tf_score'], 'key' : i['key'] }  #Calculating TF-IDF Score for each word\n",
    "        tfidfscore.append(temp)  #Appending each document TF-IDF Score\n",
    "    return tfidfscore\n",
    "\n",
    "def fit(corpus):\n",
    "    \"\"\"\n",
    "    This function returns distinct features and their count\n",
    "    \"\"\"\n",
    "    initial = set()\n",
    "    if isinstance(corpus, (list,)):  #Check corpus is list or not \n",
    "        for row in corpus :     #Iterating each document in corpus  \n",
    "            for w in row.split(\" \"):  #Spliting each document into words \n",
    "                 initial.add(w)  #Appending distinct features to set \n",
    "        \n",
    "        finalwords = sorted(list(initial))  #Sorted the words \n",
    "        print(\"Below are the Dimensional Features in sorted Order :\")    \n",
    "        print(finalwords)  #Printing distinct features in corpus \n",
    "        testin = {q : p for p,q in enumerate(finalwords)}   #Returns count of occurence of words\n",
    "    return testin\n",
    "\n",
    "\n",
    "def transform(corpus,x,idfscore):\n",
    "    \"\"\"\n",
    "    This function returns Sparse Matrix of corpus \n",
    "    \"\"\"\n",
    "    rows = []\n",
    "    columns = []\n",
    "    values = []\n",
    "    if isinstance(corpus, (list,)):  #Check corpus is list or not \n",
    "        for i,j in enumerate(tqdm(corpus)):  #Iterating each document in corpus\n",
    "            wordfree = dict(Counter(j.split()))  #Each word count in every document \n",
    "            for ip in idfscore:  #Iterating each IDF Score\n",
    "                if ip['id_doc']-1 == i:\n",
    "                        p = ip['key']\n",
    "                        q = ip['tfidfscore']\n",
    "                        col_index = x.get(p, -1)  #Finding Column index for each word\n",
    "                        if col_index !=-1 :\n",
    "                            rows.append(i)   #Appending each row for each document \n",
    "                            columns.append(col_index) #Appending each column index\n",
    "                            values.append(q)  #Appending tfidfscore for each word\n",
    "        return csr_matrix((values, (rows,columns)), shape=(len(corpus),len(x)))  #Returns the sparse Matrix \n",
    "    else:\n",
    "        print(\"you need to pass list of strings\")   \n",
    "\n",
    "\n",
    "# Main Function \n",
    "corpus = [\n",
    "     'this is the first document',\n",
    "     'this document is the second document',\n",
    "     'and this is the third one',\n",
    "     'is this the first document',\n",
    "]\n",
    "\n",
    "docin = get_countdoc(corpus)   #By calling this function to get count of words in each document \n",
    "fredict = get_worddoc(corpus) #By calling this function to get each word count in each document \n",
    "tfscore = calculateTF(docin,fredict) #By calling this function  to calculate term frequency score of each word\n",
    "idfscore = calculateidf(docin,fredict)#By calling this function to calculate Inverse Document frequency score of each document \n",
    "tfidfscore = calculatetfidf(tfscore,idfscore)#By calling this function to calculate TF-IDF Score for each word\n",
    "x = fit(corpus)  #By calling this function to get count of occurrence of distinct words\n",
    "tfdprint = {i : j['IDFScore'] for i in x for j in idfscore if i==j['key'] } # IDF Score for distinct words\n",
    "print(\"Below are the IDFScore Dimensional Features  :\")\n",
    "print(tfdprint)\n",
    "p = transform(corpus,x,tfidfscore) #By calling this function to get matrix of corpus \n",
    "finaltransform = normalize(p, axis=1, norm='l2') #Normalizing the Data \n",
    "print(\"Final output for Sparse Matrix after normalization\")  \n",
    "print(finaltransform)   #Print Sparse Matrix \n",
    "print(\"Shape of Matrix is \" + str(finaltransform.shape))\n",
    "print(\"Here the output is a sparse matrix of finaltransorm[0] :\")\n",
    "print(finaltransform[0])\n",
    "print(\"Here we are converting the sparse output matrix to dense matrix and printing it : \")\n",
    "print(finaltransform[3].toarray())\n",
    "print(\"Dense Matrix of output\")\n",
    "print(finaltransform.todense())\n",
    "\n"
   ]
  },
  {
   "cell_type": "markdown",
   "metadata": {
    "colab_type": "text",
    "id": "MMxBmVZExLjK"
   },
   "source": [
    "## Task-2"
   ]
  },
  {
   "cell_type": "markdown",
   "metadata": {
    "colab_type": "text",
    "id": "51j_OtqAxLjL"
   },
   "source": [
    "<font face='georgia'>\n",
    "    <h4><strong>2. Implement max features functionality:</strong></h4>\n",
    "\n",
    "<ul>\n",
    "    <li> As a part of this task you have to modify your fit and transform functions so that your vocab will contain only 50 terms with top idf scores.</li>\n",
    "    <br>\n",
    "    <li>This task is similar to your previous task, just that here your vocabulary is limited to only top 50 features names based on their idf values. Basically your output will have exactly 50 columns and the number of rows will depend on the number of documents you have in your corpus.</li>\n",
    "    <br>\n",
    "    <li>Here you will be give a pickle file, with file name <strong>cleaned_strings</strong>. You would have to load the corpus from this file and use it as input to your tfidf vectorizer.</li>\n",
    "    <br>\n",
    "    <li>Steps to approach this task:\n",
    "    <ol>\n",
    "        <li> You would have to write both fit and transform methods for your custom implementation of tfidf vectorizer, just like in the previous task. Additionally, here you have to limit the number of features generated to 50 as described above.</li>\n",
    "        <li> Now sort your vocab based in descending order of idf values and print out the words in the sorted voacb after you fit your data. Here you should be getting only 50 terms in your vocab. And make sure to print idf values for each term in your vocab. </li>\n",
    "        <li> Make sure the output of your implementation is a sparse matrix. Before generating the final output, you need to normalize your sparse matrix using L2 normalization. You can refer to this link https://scikit-learn.org/stable/modules/generated/sklearn.preprocessing.normalize.html </li>\n",
    "        <li> Now check the output of a single document in your collection of documents,  you can convert the sparse matrix related only to that document into dense matrix and print it. And this dense matrix should contain 1 row and 50 columns. </li>\n",
    "        </ol>\n",
    "    </li>\n",
    "    <br>\n",
    "   </ul>"
   ]
  },
  {
   "cell_type": "code",
   "execution_count": null,
   "metadata": {
    "colab": {},
    "colab_type": "code",
    "id": "NHxPLlwNxLjL",
    "outputId": "9abd8e08-0e24-4975-9a13-4d3636d60323"
   },
   "outputs": [
    {
     "name": "stdout",
     "output_type": "stream",
     "text": [
      "Below are the IDFScore Dimensional Features  :"
     ]
    }
   ],
   "source": [
    "# Write your code here.\n",
    "# Make sure its well documented and readble with appropriate comments.\n",
    "# Compare your results with the above sklearn tfidf vectorizer\n",
    "# You are not supposed to use any other library apart from the ones given below\n",
    "import warnings\n",
    "import pickle\n",
    "warnings.filterwarnings(\"ignore\")\n",
    "from collections import Counter\n",
    "from tqdm import tqdm\n",
    "from scipy.sparse import csr_matrix\n",
    "import math\n",
    "import operator\n",
    "from sklearn.preprocessing import normalize\n",
    "import numpy\n",
    "import os \n",
    "\n",
    "\n",
    "def wordscount(p):\n",
    "    \"\"\"\n",
    "    This function returns count of words \n",
    "    \"\"\"\n",
    "    count = 0 \n",
    "    words = p.split(\" \")  #Spliting the document into words \n",
    "    for ward in words:\n",
    "        count +=1            #Calculate the count of words  in each document \n",
    "    return count \n",
    "def get_countdoc(corpus):\n",
    "    \"\"\" \n",
    "    This function returns the no of words in each document\n",
    "    \"\"\"\n",
    "    doc_count = []                       #initialize list as empty \n",
    "    i =0\n",
    "    for p in corpus: \n",
    "        i +=1\n",
    "        count = wordscount(p)       #Calling Count function\n",
    "        temp = {'id_doc' : i, 'length_doc' : count}   #Stored as  dictionary for each document \n",
    "        doc_count.append(temp)           #Append each document dictionary to list \n",
    "    return doc_count\n",
    "\n",
    "def get_worddoc(corpus):\n",
    "    \"\"\"\n",
    "    This function returns each word count in each document\"\n",
    "    \"\"\"\n",
    "    i = 0 \n",
    "    freq = []            #Initialize list as empty\n",
    "    for ivr in corpus :  #Iterating each document in corpus \n",
    "        i += 1\n",
    "        dict_freq = {}\n",
    "        words = ivr.split(\" \")  #Spliting document into words\n",
    "        for wordi in words: \n",
    "            wordi = wordi.lower()  #Converting all words to lower case \n",
    "            if wordi in dict_freq:\n",
    "                dict_freq[wordi] +=1  #Calculating each word count in each document \n",
    "            else : \n",
    "                dict_freq[wordi] = 1  #First time adding that word into dictionary is set to  1 \n",
    "            \n",
    "            temp = {'id_doc' : i, 'freq_dit' : dict_freq}  #Adding each document with respective splited words count \n",
    "            \n",
    "        freq.append(temp)  #Appending dictinoary to final list \n",
    "    return freq\n",
    "\t\n",
    "def calculateTF(docin,fredict):\n",
    "    \"\"\"\n",
    "    This function returns TF Score for each word\n",
    "    \"\"\"\n",
    "    tf_value = []         #Initilaize list as empty\n",
    "    for values in fredict :   #Iterating every document in corpus\n",
    "        id = values['id_doc']    #Find the document id of that corpus \n",
    "        for k in values['freq_dit']: # Taking all words in each document \n",
    "            temp = {'id_doc' : id, 'tf_score' : values['freq_dit'][k]/docin[id-1]['length_doc'], 'key' : k }  #Calcualate TF Score of words in each document \n",
    "            tf_value.append(temp)  #Appending all documents TF Score to list \n",
    "    return tf_value\n",
    "\t\n",
    "def calculateidf(docin,fredict):\n",
    "        \"\"\"\n",
    "        This function returns IDF Score for each word \n",
    "        \"\"\"\n",
    "        idfscores = []\n",
    "        t1 = []\n",
    "        counter = 0\n",
    "        for dict in fredict :  #Iterating every document in corpus\n",
    "            counter +=1       \n",
    "            for k in dict['freq_dit'].keys():\n",
    "                count = sum([k in tempDict['freq_dit'] for tempDict in fredict])  #No of documents containing that word\n",
    "                temp = {'id_doc' : counter, 'IDFScore' :1.0 + (math.log((1+len(docin))/(1+count))), 'key': k} #Calulate the IDF Score of each word in document \n",
    "                idfscores.append(temp) #Append each document IDF Score\n",
    "        return idfscores\n",
    "\n",
    "def calculatetfidf(tfscore,idfscore):\n",
    "    \"\"\"\n",
    "    This function returns TF-IDF Score for each word \n",
    "    \"\"\"\n",
    "    tfidfscore = []\n",
    "    for j in idfscore:  #Iterating IDF Scores \n",
    "        for i in tfscore: #Iterating TF Scores \n",
    "            if j['key'] == i['key'] and j['id_doc'] == i['id_doc']:\n",
    "                temp = {'id_doc' : j['id_doc'], 'tfidfscore' : j['IDFScore']*i['tf_score'], 'key' : i['key'] }  #Calculating TF-IDF Score for each word\n",
    "        tfidfscore.append(temp)  #Appending each document TF-IDF Score\n",
    "    return tfidfscore\n",
    "\n",
    "def fit(corpus):\n",
    "    \"\"\"\n",
    "    This function returns distinct features and their count\n",
    "    \"\"\"\n",
    "    initial = set()\n",
    "    if isinstance(corpus, (list,)):  #Check corpus is list or not \n",
    "        for row in corpus :     #Iterating each document in corpus  \n",
    "            for w in row.split(\" \"):  #Spliting each document into words \n",
    "                 initial.add(w)  #Appending distinct features to set \n",
    "        \n",
    "        finalwords = sorted(list(initial))  #Sorted the words \n",
    "        testin = {q : p for p,q in enumerate(finalwords)}   #Returns count of occurence of words\n",
    "    return testin\n",
    "\t\n",
    "def transform(corpus,x,idfscore):\n",
    "    \"\"\"\n",
    "    This function returns Sparse Matrix of corpus \n",
    "    \"\"\"\n",
    "    rows = []\n",
    "    columns = []\n",
    "    values = []\n",
    "    if isinstance(corpus, (list,)):  #Check corpus is list or not \n",
    "        for i,j in enumerate(tqdm(corpus)):  #Iterating each document in corpus\n",
    "            wordfree = dict(Counter(j.split()))  #Each word count in every document \n",
    "            for ip in idfscore:  #Iterating each IDF Score\n",
    "                if ip['id_doc']-1 == i:\n",
    "                        p = ip['key']\n",
    "                        q = ip['tfidfscore']\n",
    "                        col_index = x.get(p, -1)  #Finding Column index for each word\n",
    "                        if col_index !=-1 :\n",
    "                            rows.append(i)   #Appending each row for each document \n",
    "                            columns.append(col_index) #Appending each column index\n",
    "                            values.append(q)  #Appending tfidfscore for each word\n",
    "        return csr_matrix((values, (rows,columns)), shape=(len(corpus),len(x)))  #Returns the sparse Matrix \n",
    "    else:\n",
    "        print(\"you need to pass list of strings\")   \n",
    "\n",
    "\n",
    "\n",
    "\n",
    " #Main Function       \n",
    "with open('cleaned_strings', 'rb') as f:\n",
    "    corpus = pickle.load(f)\n",
    "   # print(corpus)\n",
    "\n",
    "docin = get_countdoc(corpus)   #By calling this function to get count of words in each document \n",
    "fredict = get_worddoc(corpus) #By calling this function to get each word count in each document \n",
    "tfscore = calculateTF(docin,fredict) #By calling this function  to calculate term frequency score of each word\n",
    "idfscore = calculateidf(docin,fredict)#By calling this function to calculate Inverse Document frequency score of each document\n",
    "x = fit(corpus) #By calling this function to get count of occurrence of distinct words\n",
    "tfdprint = {i: j['IDFScore'] for i in x for j in idfscore if i==j['key'] } # IDF Score for distinct words\n",
    "feature = {ele[0]:ele[1] for ele in sorted(tfdprint.items() , reverse=True, key=lambda x: x[1])[:50]}\n",
    "print(\"Below are the IDFScore Dimensional Features  :\")\n",
    "print(feature)\n",
    "tfscore1 = [j for i in feature for j in tfscore if  i==j['key']]\n",
    "idfscore1 = [j for i in feature for j in idfscore if  i==j['key']]\n",
    "tfidfscore = calculatetfidf(tfscore,idfscore)#By calling this function to calculate TF-IDF Score for each word\n",
    "x1= {key : value for i in feature for key,value in sorted(x.items()) if i==key}\n",
    "x2 = [ele[0] for ele in sorted(x1.items() , reverse=True, key=lambda x: x[1])]\n",
    "print(\"Below are the Dimensional Features  :\")\n",
    "print(x2)\n",
    "x3 = {row : idx for idx, row in enumerate(x2)}\n",
    "p = transform(corpus,x3,tfidfscore) #By calling this function to get matrix of corpus\n",
    "finaltransform = normalize(p, axis=1, norm='l2') #Normalizing the Data \n",
    "print(\"Final output for Sparse Matrix after normalization\")\n",
    "print(finaltransform) #Print Sparse Matrix\n",
    "print(\"Shape of Matrix is \" + str(finaltransform.shape))\n",
    "print(\"Here the output is a sparse matrix of finaltransorm[0] :\")\n",
    "print(finaltransform[0])\n",
    "print(\"Here we are converting the sparse output matrix to dense matrix and printing it : \")\n",
    "print(finaltransform[3].toarray())\n",
    "print(\"Dense Matrix of output\")\n",
    "print(finaltransform.todense())\n"
   ]
  },
  {
   "cell_type": "code",
   "execution_count": 0,
   "metadata": {
    "colab": {},
    "colab_type": "code",
    "id": "ZULfoOIdxLjQ"
   },
   "outputs": [],
   "source": [
    "# Write your code here.\n",
    "# Try not to hardcode any values.\n",
    "# Make sure its well documented and readble with appropriate comments."
   ]
  },
  {
   "cell_type": "code",
   "execution_count": 0,
   "metadata": {
    "colab": {},
    "colab_type": "code",
    "id": "1_DJnnR3xLjR"
   },
   "outputs": [],
   "source": []
  }
 ],
 "metadata": {
  "colab": {
   "collapsed_sections": [],
   "name": "Assignment_3_Instructions.ipynb",
   "provenance": [],
   "version": "0.3.2"
  },
  "kernelspec": {
   "display_name": "Python 3",
   "language": "python",
   "name": "python3"
  },
  "language_info": {
   "codemirror_mode": {
    "name": "ipython",
    "version": 3
   },
   "file_extension": ".py",
   "mimetype": "text/x-python",
   "name": "python",
   "nbconvert_exporter": "python",
   "pygments_lexer": "ipython3",
   "version": "3.7.3"
  }
 },
 "nbformat": 4,
 "nbformat_minor": 1
}
